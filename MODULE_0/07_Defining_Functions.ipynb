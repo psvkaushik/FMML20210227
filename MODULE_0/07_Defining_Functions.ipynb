{
  "nbformat": 4,
  "nbformat_minor": 0,
  "metadata": {
    "colab": {
      "name": "07_Defining_Functions.ipynb",
      "provenance": [],
      "include_colab_link": true
    },
    "kernelspec": {
      "name": "python3",
      "display_name": "Python 3"
    },
    "language_info": {
      "name": "python"
    }
  },
  "cells": [
    {
      "cell_type": "markdown",
      "metadata": {
        "id": "view-in-github",
        "colab_type": "text"
      },
      "source": [
        "<a href=\"https://colab.research.google.com/github/UnrealGamer007/fmml2021/blob/main/07_Defining_Functions.ipynb\" target=\"_parent\"><img src=\"https://colab.research.google.com/assets/colab-badge.svg\" alt=\"Open In Colab\"/></a>"
      ]
    },
    {
      "cell_type": "code",
      "metadata": {
        "id": "1pqsgNqwnbHE"
      },
      "source": [
        "def inList (my_char, my_list=['a','e','i','o','u']):\n",
        "  \"\"\" this is a function to check whether a char is vowel or not \"\"\"\n",
        "  for each_char in my_list:\n",
        "    if each_char == my_char.lower():\n",
        "      return True\n",
        "  return False"
      ],
      "execution_count": 1,
      "outputs": []
    },
    {
      "cell_type": "code",
      "metadata": {
        "id": "SLpNGCWYn6Er",
        "outputId": "b6be6322-3266-44ce-ee61-aa96247f0926",
        "colab": {
          "base_uri": "https://localhost:8080/"
        }
      },
      "source": [
        "inList('Z', ['x', 'y', 'z'])"
      ],
      "execution_count": 2,
      "outputs": [
        {
          "output_type": "execute_result",
          "data": {
            "text/plain": [
              "True"
            ]
          },
          "metadata": {},
          "execution_count": 2
        }
      ]
    },
    {
      "cell_type": "code",
      "metadata": {
        "id": "r_KUNOW3rCc6",
        "outputId": "47ee9673-c2a2-4f43-9f6d-943c1ca288aa",
        "colab": {
          "base_uri": "https://localhost:8080/"
        }
      },
      "source": [
        "# Write a function to check whether a given number belongs to fibonacci series or not\n",
        "def inFibo (num, list1):\n",
        "  for i in range(len(list1)):\n",
        "    if (i == num):\n",
        "      return True\n",
        "  return False\n",
        "    \n",
        "list2 = []\n",
        "a = b = 1\n",
        "while(b<100000):\n",
        "\n",
        "  list2.append(a)\n",
        "  list2.append(b)\n",
        "  a= a+b\n",
        "  b = a+b\n",
        "\n",
        "n = int(input(\"enter the number to check\"))\n",
        "print(list2)\n",
        "y = inFibo(n,list2)\n",
        "print(y)\n",
        "if y:\n",
        "  print( n ,\"is in fibo\")\n",
        "else:\n",
        "  print(\"not\")\n",
        "\n",
        "    \n",
        "\n"
      ],
      "execution_count": 22,
      "outputs": [
        {
          "output_type": "stream",
          "name": "stdout",
          "text": [
            "enter the number to check5\n",
            "[1, 1, 2, 3, 5, 8, 13, 21, 34, 55, 89, 144, 233, 377, 610, 987, 1597, 2584, 4181, 6765, 10946, 17711, 28657, 46368]\n",
            "True\n",
            "5 is in fibo\n"
          ]
        }
      ]
    },
    {
      "cell_type": "markdown",
      "metadata": {
        "id": "3hfExC9BPkKK"
      },
      "source": [
        "Reference: [Python Documentation on Functions](https://docs.python.org/3/tutorial/controlflow.html#defining-functions)"
      ]
    }
  ]
}